{
  "cells": [
    {
      "cell_type": "markdown",
      "metadata": {
        "id": "JrB84NUp0j4F"
      },
      "source": [
        "**Dataset (Fuente):** https://europepmc.org/article/med/29474911"
      ]
    },
    {
      "cell_type": "code",
      "execution_count": 1,
      "metadata": {
        "colab": {
          "base_uri": "https://localhost:8080/"
        },
        "id": "1LcOwlWUJMK0",
        "outputId": "252f07fb-9369-4e86-b3f3-2b87df6faea1"
      },
      "outputs": [
        {
          "name": "stdout",
          "output_type": "stream",
          "text": [
            "[WinError 2] El sistema no puede encontrar el archivo especificado: '/content/'\n",
            "c:\\Users\\PEDRO\\OneDrive\\Documentos\\PUCP\\2024-1\\DL\\L4 KAGGLE\n"
          ]
        },
        {
          "name": "stderr",
          "output_type": "stream",
          "text": [
            "C:\\Users\\PEDRO\\AppData\\Roaming\\Python\\Python312\\site-packages\\IPython\\core\\magics\\osm.py:393: UserWarning: This is now an optional IPython functionality, using bookmarks requires you to install the `pickleshare` library.\n",
            "  bkms = self.shell.db.get('bookmarks', {})\n"
          ]
        }
      ],
      "source": [
        "%cd /content/"
      ]
    },
    {
      "cell_type": "code",
      "execution_count": 2,
      "metadata": {
        "colab": {
          "base_uri": "https://localhost:8080/"
        },
        "id": "1_xCl3HvDLm0",
        "outputId": "0c79ffcc-8888-47e3-c181-3d3a011ab965"
      },
      "outputs": [
        {
          "name": "stderr",
          "output_type": "stream",
          "text": [
            "Cloning into 'X-Ray-Pneumonia-Images'...\n",
            "Updating files:   2% (149/5856)\n",
            "Updating files:   3% (176/5856)\n",
            "Updating files:   4% (235/5856)\n",
            "Updating files:   5% (293/5856)\n",
            "Updating files:   6% (352/5856)\n",
            "Updating files:   7% (410/5856)\n",
            "Updating files:   7% (466/5856)\n",
            "Updating files:   8% (469/5856)\n",
            "Updating files:   9% (528/5856)\n",
            "Updating files:  10% (586/5856)\n",
            "Updating files:  11% (645/5856)\n",
            "Updating files:  12% (703/5856)\n",
            "Updating files:  13% (762/5856)\n",
            "Updating files:  14% (820/5856)\n",
            "Updating files:  15% (879/5856)\n",
            "Updating files:  16% (937/5856)\n",
            "Updating files:  17% (996/5856)\n",
            "Updating files:  17% (1037/5856)\n",
            "Updating files:  18% (1055/5856)\n",
            "Updating files:  19% (1113/5856)\n",
            "Updating files:  20% (1172/5856)\n",
            "Updating files:  21% (1230/5856)\n",
            "Updating files:  22% (1289/5856)\n",
            "Updating files:  23% (1347/5856)\n",
            "Updating files:  24% (1406/5856)\n",
            "Updating files:  25% (1464/5856)\n",
            "Updating files:  26% (1523/5856)\n",
            "Updating files:  26% (1580/5856)\n",
            "Updating files:  27% (1582/5856)\n",
            "Updating files:  28% (1640/5856)\n",
            "Updating files:  29% (1699/5856)\n",
            "Updating files:  30% (1757/5856)\n",
            "Updating files:  31% (1816/5856)\n",
            "Updating files:  32% (1874/5856)\n",
            "Updating files:  33% (1933/5856)\n",
            "Updating files:  34% (1992/5856)\n",
            "Updating files:  34% (2032/5856)\n",
            "Updating files:  35% (2050/5856)\n",
            "Updating files:  36% (2109/5856)\n",
            "Updating files:  37% (2167/5856)\n",
            "Updating files:  38% (2226/5856)\n",
            "Updating files:  39% (2284/5856)\n",
            "Updating files:  40% (2343/5856)\n",
            "Updating files:  41% (2401/5856)\n",
            "Updating files:  42% (2460/5856)\n",
            "Updating files:  43% (2519/5856)\n",
            "Updating files:  43% (2551/5856)\n",
            "Updating files:  44% (2577/5856)\n",
            "Updating files:  45% (2636/5856)\n",
            "Updating files:  46% (2694/5856)\n",
            "Updating files:  47% (2753/5856)\n",
            "Updating files:  48% (2811/5856)\n",
            "Updating files:  49% (2870/5856)\n",
            "Updating files:  50% (2928/5856)\n",
            "Updating files:  51% (2987/5856)\n",
            "Updating files:  52% (3046/5856)\n",
            "Updating files:  52% (3052/5856)\n",
            "Updating files:  53% (3104/5856)\n",
            "Updating files:  54% (3163/5856)\n",
            "Updating files:  55% (3221/5856)\n",
            "Updating files:  56% (3280/5856)\n",
            "Updating files:  57% (3338/5856)\n",
            "Updating files:  58% (3397/5856)\n",
            "Updating files:  59% (3456/5856)\n",
            "Updating files:  59% (3488/5856)\n",
            "Updating files:  60% (3514/5856)\n",
            "Updating files:  61% (3573/5856)\n",
            "Updating files:  61% (3609/5856)\n",
            "Updating files:  62% (3631/5856)\n",
            "Updating files:  63% (3690/5856)\n",
            "Updating files:  63% (3723/5856)\n",
            "Updating files:  64% (3748/5856)\n",
            "Updating files:  65% (3807/5856)\n",
            "Updating files:  66% (3865/5856)\n",
            "Updating files:  67% (3924/5856)\n",
            "Updating files:  68% (3983/5856)\n",
            "Updating files:  68% (4027/5856)\n",
            "Updating files:  69% (4041/5856)\n",
            "Updating files:  70% (4100/5856)\n",
            "Updating files:  71% (4158/5856)\n",
            "Updating files:  72% (4217/5856)\n",
            "Updating files:  73% (4275/5856)\n",
            "Updating files:  73% (4313/5856)\n",
            "Updating files:  74% (4334/5856)\n",
            "Updating files:  75% (4392/5856)\n",
            "Updating files:  75% (4417/5856)\n",
            "Updating files:  76% (4451/5856)\n",
            "Updating files:  77% (4510/5856)\n",
            "Updating files:  77% (4538/5856)\n",
            "Updating files:  78% (4568/5856)\n",
            "Updating files:  78% (4614/5856)\n",
            "Updating files:  79% (4627/5856)\n",
            "Updating files:  80% (4685/5856)\n",
            "Updating files:  80% (4692/5856)\n",
            "Updating files:  80% (4695/5856)\n",
            "Updating files:  81% (4744/5856)\n",
            "Updating files:  81% (4774/5856)\n",
            "Updating files:  82% (4802/5856)\n",
            "Updating files:  83% (4861/5856)\n",
            "Updating files:  83% (4895/5856)\n",
            "Updating files:  84% (4920/5856)\n",
            "Updating files:  85% (4978/5856)\n",
            "Updating files:  85% (5023/5856)\n",
            "Updating files:  86% (5037/5856)\n",
            "Updating files:  87% (5095/5856)\n",
            "Updating files:  87% (5135/5856)\n",
            "Updating files:  88% (5154/5856)\n",
            "Updating files:  89% (5212/5856)\n",
            "Updating files:  89% (5223/5856)\n",
            "Updating files:  90% (5271/5856)\n",
            "Updating files:  91% (5329/5856)\n",
            "Updating files:  92% (5388/5856)\n",
            "Updating files:  92% (5444/5856)\n",
            "Updating files:  93% (5447/5856)\n",
            "Updating files:  94% (5505/5856)\n",
            "Updating files:  95% (5564/5856)\n",
            "Updating files:  96% (5622/5856)\n",
            "Updating files:  97% (5681/5856)\n",
            "Updating files:  98% (5739/5856)\n",
            "Updating files:  99% (5798/5856)\n",
            "Updating files: 100% (5856/5856)\n",
            "Updating files: 100% (5856/5856), done.\n"
          ]
        }
      ],
      "source": [
        "!git clone https://github.com/iapucp/X-Ray-Pneumonia-Images.git"
      ]
    },
    {
      "cell_type": "code",
      "execution_count": 3,
      "metadata": {
        "colab": {
          "base_uri": "https://localhost:8080/"
        },
        "id": "-zjGu6gvCYKW",
        "outputId": "df3e5617-f541-40da-dcc3-5aac7af5a2c8"
      },
      "outputs": [
        {
          "name": "stdout",
          "output_type": "stream",
          "text": [
            " El volumen de la unidad C es Windows\n",
            " El n�mero de serie del volumen es: 18E9-28CD\n",
            "\n",
            " Directorio de c:\\Users\\PEDRO\\OneDrive\\Documentos\\PUCP\\2024-1\\DL\\L4 KAGGLE\n",
            "\n",
            "25/04/2024  18:23    <DIR>          .\n",
            "25/04/2024  18:23    <DIR>          ..\n",
            "25/04/2024  18:23             2,817 Rayos_X_NeumoniI'a_Descarga_de_Datos.ipynb\n",
            "25/04/2024  18:24    <DIR>          X-Ray-Pneumonia-Images\n",
            "               1 archivos          2,817 bytes\n",
            "               3 dirs  34,004,885,504 bytes libres\n"
          ]
        }
      ],
      "source": [
        "%ls"
      ]
    }
  ],
  "metadata": {
    "colab": {
      "collapsed_sections": [],
      "name": "Rayos X - Neumonía - Descarga de Datos.ipynb",
      "provenance": []
    },
    "kernelspec": {
      "display_name": "Python 3",
      "name": "python3"
    },
    "language_info": {
      "codemirror_mode": {
        "name": "ipython",
        "version": 3
      },
      "file_extension": ".py",
      "mimetype": "text/x-python",
      "name": "python",
      "nbconvert_exporter": "python",
      "pygments_lexer": "ipython3",
      "version": "3.12.0"
    }
  },
  "nbformat": 4,
  "nbformat_minor": 0
}
